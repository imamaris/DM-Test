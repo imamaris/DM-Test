{
 "cells": [
  {
   "attachments": {},
   "cell_type": "markdown",
   "metadata": {},
   "source": [
    "### Import Libraries"
   ]
  },
  {
   "cell_type": "code",
   "execution_count": 19,
   "metadata": {},
   "outputs": [],
   "source": [
    "import pandas as pd\n",
    "import pandas as pd\n",
    "import numpy as np\n",
    "import matplotlib.pyplot as plt\n",
    "import seaborn as sns\n",
    "%matplotlib inline"
   ]
  },
  {
   "cell_type": "code",
   "execution_count": 42,
   "metadata": {},
   "outputs": [],
   "source": [
    "import warnings\n",
    "warnings.filterwarnings('ignore')"
   ]
  },
  {
   "attachments": {},
   "cell_type": "markdown",
   "metadata": {},
   "source": [
    "### load Dataset"
   ]
  },
  {
   "cell_type": "code",
   "execution_count": 57,
   "metadata": {},
   "outputs": [],
   "source": [
    "df = pd.read_csv('dataset/Order.csv')"
   ]
  },
  {
   "attachments": {},
   "cell_type": "markdown",
   "metadata": {},
   "source": [
    "## Exploratory Data Analyst"
   ]
  },
  {
   "cell_type": "code",
   "execution_count": 46,
   "metadata": {},
   "outputs": [
    {
     "data": {
      "text/plain": [
       "(1000, 13)"
      ]
     },
     "execution_count": 46,
     "metadata": {},
     "output_type": "execute_result"
    }
   ],
   "source": [
    "df.shape"
   ]
  },
  {
   "attachments": {},
   "cell_type": "markdown",
   "metadata": {},
   "source": [
    "We can see that there are 1000 instances and 13 variables in the data set."
   ]
  },
  {
   "attachments": {},
   "cell_type": "markdown",
   "metadata": {},
   "source": [
    "#### Preview the dataset"
   ]
  },
  {
   "cell_type": "code",
   "execution_count": 47,
   "metadata": {},
   "outputs": [
    {
     "data": {
      "text/html": [
       "<div>\n",
       "<style scoped>\n",
       "    .dataframe tbody tr th:only-of-type {\n",
       "        vertical-align: middle;\n",
       "    }\n",
       "\n",
       "    .dataframe tbody tr th {\n",
       "        vertical-align: top;\n",
       "    }\n",
       "\n",
       "    .dataframe thead th {\n",
       "        text-align: right;\n",
       "    }\n",
       "</style>\n",
       "<table border=\"1\" class=\"dataframe\">\n",
       "  <thead>\n",
       "    <tr style=\"text-align: right;\">\n",
       "      <th></th>\n",
       "      <th>idOrder</th>\n",
       "      <th>Date</th>\n",
       "      <th>idWarehouse</th>\n",
       "      <th>Channel</th>\n",
       "      <th>Category</th>\n",
       "      <th>idBuyer</th>\n",
       "      <th>Product</th>\n",
       "      <th>Quantity</th>\n",
       "      <th>Revenue</th>\n",
       "      <th>RawMaterial</th>\n",
       "      <th>Handling</th>\n",
       "      <th>Logistic</th>\n",
       "      <th>idSales</th>\n",
       "    </tr>\n",
       "  </thead>\n",
       "  <tbody>\n",
       "    <tr>\n",
       "      <th>0</th>\n",
       "      <td>1</td>\n",
       "      <td>2020-01-02 11:32:21</td>\n",
       "      <td>17</td>\n",
       "      <td>Domestic</td>\n",
       "      <td>Walk-in-Customer</td>\n",
       "      <td>34</td>\n",
       "      <td>Salmon</td>\n",
       "      <td>10.50</td>\n",
       "      <td>2488500</td>\n",
       "      <td>2188261.30</td>\n",
       "      <td>2884.51</td>\n",
       "      <td>15599.49</td>\n",
       "      <td>9</td>\n",
       "    </tr>\n",
       "    <tr>\n",
       "      <th>1</th>\n",
       "      <td>2</td>\n",
       "      <td>2020-01-02 13:41:40</td>\n",
       "      <td>12</td>\n",
       "      <td>Export</td>\n",
       "      <td>Horeca</td>\n",
       "      <td>13</td>\n",
       "      <td>Salmon Whole Frozen</td>\n",
       "      <td>27.77</td>\n",
       "      <td>4915290</td>\n",
       "      <td>4582050.00</td>\n",
       "      <td>23821.66</td>\n",
       "      <td>56499.18</td>\n",
       "      <td>7</td>\n",
       "    </tr>\n",
       "    <tr>\n",
       "      <th>2</th>\n",
       "      <td>3</td>\n",
       "      <td>2020-01-03 10:21:13</td>\n",
       "      <td>4</td>\n",
       "      <td>Export</td>\n",
       "      <td>Tokopedia</td>\n",
       "      <td>91</td>\n",
       "      <td>Salmon</td>\n",
       "      <td>175.66</td>\n",
       "      <td>39523500</td>\n",
       "      <td>36284710.20</td>\n",
       "      <td>871.76</td>\n",
       "      <td>267430.70</td>\n",
       "      <td>9</td>\n",
       "    </tr>\n",
       "    <tr>\n",
       "      <th>3</th>\n",
       "      <td>4</td>\n",
       "      <td>2020-01-05 2:40:13</td>\n",
       "      <td>4</td>\n",
       "      <td>Domestic</td>\n",
       "      <td>Tokopedia</td>\n",
       "      <td>94</td>\n",
       "      <td>Salmon Whole Headless</td>\n",
       "      <td>22.20</td>\n",
       "      <td>3862800</td>\n",
       "      <td>3776042.40</td>\n",
       "      <td>4823.21</td>\n",
       "      <td>88353.54</td>\n",
       "      <td>14</td>\n",
       "    </tr>\n",
       "    <tr>\n",
       "      <th>4</th>\n",
       "      <td>5</td>\n",
       "      <td>2020-01-06 12:49:54</td>\n",
       "      <td>6</td>\n",
       "      <td>Domestic</td>\n",
       "      <td>Tokopedia</td>\n",
       "      <td>96</td>\n",
       "      <td>Dori NBL Size 4</td>\n",
       "      <td>40.00</td>\n",
       "      <td>1600000</td>\n",
       "      <td>1373149.45</td>\n",
       "      <td>55168.10</td>\n",
       "      <td>113192.23</td>\n",
       "      <td>9</td>\n",
       "    </tr>\n",
       "  </tbody>\n",
       "</table>\n",
       "</div>"
      ],
      "text/plain": [
       "   idOrder                 Date  idWarehouse   Channel          Category  \\\n",
       "0        1  2020-01-02 11:32:21           17  Domestic  Walk-in-Customer   \n",
       "1        2  2020-01-02 13:41:40           12    Export            Horeca   \n",
       "2        3  2020-01-03 10:21:13            4    Export         Tokopedia   \n",
       "3        4   2020-01-05 2:40:13            4  Domestic         Tokopedia   \n",
       "4        5  2020-01-06 12:49:54            6  Domestic         Tokopedia   \n",
       "\n",
       "   idBuyer                Product  Quantity   Revenue  RawMaterial  Handling  \\\n",
       "0       34                 Salmon     10.50   2488500   2188261.30   2884.51   \n",
       "1       13    Salmon Whole Frozen     27.77   4915290   4582050.00  23821.66   \n",
       "2       91                 Salmon    175.66  39523500  36284710.20    871.76   \n",
       "3       94  Salmon Whole Headless     22.20   3862800   3776042.40   4823.21   \n",
       "4       96        Dori NBL Size 4     40.00   1600000   1373149.45  55168.10   \n",
       "\n",
       "    Logistic  idSales  \n",
       "0   15599.49        9  \n",
       "1   56499.18        7  \n",
       "2  267430.70        9  \n",
       "3   88353.54       14  \n",
       "4  113192.23        9  "
      ]
     },
     "execution_count": 47,
     "metadata": {},
     "output_type": "execute_result"
    }
   ],
   "source": [
    "df.head()"
   ]
  },
  {
   "attachments": {},
   "cell_type": "markdown",
   "metadata": {},
   "source": [
    "#### View summary of dataset"
   ]
  },
  {
   "cell_type": "code",
   "execution_count": 45,
   "metadata": {},
   "outputs": [
    {
     "name": "stdout",
     "output_type": "stream",
     "text": [
      "<class 'pandas.core.frame.DataFrame'>\n",
      "RangeIndex: 1000 entries, 0 to 999\n",
      "Data columns (total 13 columns):\n",
      " #   Column       Non-Null Count  Dtype  \n",
      "---  ------       --------------  -----  \n",
      " 0   idOrder      1000 non-null   int64  \n",
      " 1   Date         1000 non-null   object \n",
      " 2   idWarehouse  1000 non-null   int64  \n",
      " 3   Channel      1000 non-null   object \n",
      " 4   Category     1000 non-null   object \n",
      " 5   idBuyer      1000 non-null   int64  \n",
      " 6   Product      1000 non-null   object \n",
      " 7   Quantity     1000 non-null   float64\n",
      " 8   Revenue      1000 non-null   int64  \n",
      " 9   RawMaterial  1000 non-null   float64\n",
      " 10  Handling     1000 non-null   float64\n",
      " 11  Logistic     1000 non-null   float64\n",
      " 12  idSales      1000 non-null   int64  \n",
      "dtypes: float64(4), int64(5), object(4)\n",
      "memory usage: 101.7+ KB\n"
     ]
    }
   ],
   "source": [
    "df.info()"
   ]
  },
  {
   "attachments": {},
   "cell_type": "markdown",
   "metadata": {},
   "source": [
    "#### Check for missing values"
   ]
  },
  {
   "cell_type": "code",
   "execution_count": 22,
   "metadata": {},
   "outputs": [
    {
     "data": {
      "text/plain": [
       "idOrder        0\n",
       "Date           0\n",
       "idWarehouse    0\n",
       "Channel        0\n",
       "Category       0\n",
       "idBuyer        0\n",
       "Product        0\n",
       "Quantity       0\n",
       "Revenue        0\n",
       "RawMaterial    0\n",
       "Handling       0\n",
       "Logistic       0\n",
       "idSales        0\n",
       "dtype: int64"
      ]
     },
     "execution_count": 22,
     "metadata": {},
     "output_type": "execute_result"
    }
   ],
   "source": [
    "df.isnull().sum()"
   ]
  },
  {
   "attachments": {},
   "cell_type": "markdown",
   "metadata": {},
   "source": [
    "### Descriptive statistics with describe() function\n",
    "Descriptive or summary statistics in python – pandas, can be obtained by using the describe() function. The describe() function gives us the count, mean, standard deviation(std), minimum, Q1(25%), median(50%), Q3(75%), IQR(Q3 - Q1) and maximum values."
   ]
  },
  {
   "cell_type": "code",
   "execution_count": 23,
   "metadata": {},
   "outputs": [
    {
     "data": {
      "text/html": [
       "<div>\n",
       "<style scoped>\n",
       "    .dataframe tbody tr th:only-of-type {\n",
       "        vertical-align: middle;\n",
       "    }\n",
       "\n",
       "    .dataframe tbody tr th {\n",
       "        vertical-align: top;\n",
       "    }\n",
       "\n",
       "    .dataframe thead th {\n",
       "        text-align: right;\n",
       "    }\n",
       "</style>\n",
       "<table border=\"1\" class=\"dataframe\">\n",
       "  <thead>\n",
       "    <tr style=\"text-align: right;\">\n",
       "      <th></th>\n",
       "      <th>idOrder</th>\n",
       "      <th>idWarehouse</th>\n",
       "      <th>idBuyer</th>\n",
       "      <th>Quantity</th>\n",
       "      <th>Revenue</th>\n",
       "      <th>RawMaterial</th>\n",
       "      <th>Handling</th>\n",
       "      <th>Logistic</th>\n",
       "      <th>idSales</th>\n",
       "    </tr>\n",
       "  </thead>\n",
       "  <tbody>\n",
       "    <tr>\n",
       "      <th>count</th>\n",
       "      <td>1000.000000</td>\n",
       "      <td>1000.000000</td>\n",
       "      <td>1000.000000</td>\n",
       "      <td>1000.000000</td>\n",
       "      <td>1.000000e+03</td>\n",
       "      <td>1.000000e+03</td>\n",
       "      <td>1000.00000</td>\n",
       "      <td>1.000000e+03</td>\n",
       "      <td>1000.000000</td>\n",
       "    </tr>\n",
       "    <tr>\n",
       "      <th>mean</th>\n",
       "      <td>500.500000</td>\n",
       "      <td>10.088000</td>\n",
       "      <td>52.037000</td>\n",
       "      <td>45.892110</td>\n",
       "      <td>5.067867e+06</td>\n",
       "      <td>4.706057e+06</td>\n",
       "      <td>27154.51533</td>\n",
       "      <td>1.095649e+05</td>\n",
       "      <td>8.823000</td>\n",
       "    </tr>\n",
       "    <tr>\n",
       "      <th>std</th>\n",
       "      <td>288.819436</td>\n",
       "      <td>5.567338</td>\n",
       "      <td>29.362387</td>\n",
       "      <td>85.858183</td>\n",
       "      <td>9.447707e+06</td>\n",
       "      <td>9.136549e+06</td>\n",
       "      <td>80792.32792</td>\n",
       "      <td>2.228168e+05</td>\n",
       "      <td>3.783118</td>\n",
       "    </tr>\n",
       "    <tr>\n",
       "      <th>min</th>\n",
       "      <td>1.000000</td>\n",
       "      <td>1.000000</td>\n",
       "      <td>1.000000</td>\n",
       "      <td>0.500000</td>\n",
       "      <td>3.500000e+04</td>\n",
       "      <td>1.174111e+04</td>\n",
       "      <td>7.50000</td>\n",
       "      <td>3.990200e+02</td>\n",
       "      <td>1.000000</td>\n",
       "    </tr>\n",
       "    <tr>\n",
       "      <th>25%</th>\n",
       "      <td>250.750000</td>\n",
       "      <td>5.000000</td>\n",
       "      <td>27.000000</td>\n",
       "      <td>10.175000</td>\n",
       "      <td>1.077662e+06</td>\n",
       "      <td>9.782497e+05</td>\n",
       "      <td>732.28750</td>\n",
       "      <td>1.488246e+04</td>\n",
       "      <td>8.000000</td>\n",
       "    </tr>\n",
       "    <tr>\n",
       "      <th>50%</th>\n",
       "      <td>500.500000</td>\n",
       "      <td>10.000000</td>\n",
       "      <td>53.000000</td>\n",
       "      <td>20.000000</td>\n",
       "      <td>2.653998e+06</td>\n",
       "      <td>2.387452e+06</td>\n",
       "      <td>2887.83500</td>\n",
       "      <td>3.553563e+04</td>\n",
       "      <td>9.000000</td>\n",
       "    </tr>\n",
       "    <tr>\n",
       "      <th>75%</th>\n",
       "      <td>750.250000</td>\n",
       "      <td>15.000000</td>\n",
       "      <td>79.000000</td>\n",
       "      <td>40.000000</td>\n",
       "      <td>4.948258e+06</td>\n",
       "      <td>4.655364e+06</td>\n",
       "      <td>12603.94250</td>\n",
       "      <td>1.172533e+05</td>\n",
       "      <td>11.000000</td>\n",
       "    </tr>\n",
       "    <tr>\n",
       "      <th>max</th>\n",
       "      <td>1000.000000</td>\n",
       "      <td>19.000000</td>\n",
       "      <td>100.000000</td>\n",
       "      <td>997.270000</td>\n",
       "      <td>1.475960e+08</td>\n",
       "      <td>1.493151e+08</td>\n",
       "      <td>737169.66000</td>\n",
       "      <td>3.645973e+06</td>\n",
       "      <td>16.000000</td>\n",
       "    </tr>\n",
       "  </tbody>\n",
       "</table>\n",
       "</div>"
      ],
      "text/plain": [
       "           idOrder  idWarehouse      idBuyer     Quantity       Revenue  \\\n",
       "count  1000.000000  1000.000000  1000.000000  1000.000000  1.000000e+03   \n",
       "mean    500.500000    10.088000    52.037000    45.892110  5.067867e+06   \n",
       "std     288.819436     5.567338    29.362387    85.858183  9.447707e+06   \n",
       "min       1.000000     1.000000     1.000000     0.500000  3.500000e+04   \n",
       "25%     250.750000     5.000000    27.000000    10.175000  1.077662e+06   \n",
       "50%     500.500000    10.000000    53.000000    20.000000  2.653998e+06   \n",
       "75%     750.250000    15.000000    79.000000    40.000000  4.948258e+06   \n",
       "max    1000.000000    19.000000   100.000000   997.270000  1.475960e+08   \n",
       "\n",
       "        RawMaterial      Handling      Logistic      idSales  \n",
       "count  1.000000e+03    1000.00000  1.000000e+03  1000.000000  \n",
       "mean   4.706057e+06   27154.51533  1.095649e+05     8.823000  \n",
       "std    9.136549e+06   80792.32792  2.228168e+05     3.783118  \n",
       "min    1.174111e+04       7.50000  3.990200e+02     1.000000  \n",
       "25%    9.782497e+05     732.28750  1.488246e+04     8.000000  \n",
       "50%    2.387452e+06    2887.83500  3.553563e+04     9.000000  \n",
       "75%    4.655364e+06   12603.94250  1.172533e+05    11.000000  \n",
       "max    1.493151e+08  737169.66000  3.645973e+06    16.000000  "
      ]
     },
     "execution_count": 23,
     "metadata": {},
     "output_type": "execute_result"
    }
   ],
   "source": [
    "df.describe()"
   ]
  },
  {
   "cell_type": "code",
   "execution_count": 24,
   "metadata": {},
   "outputs": [
    {
     "data": {
      "text/html": [
       "<div>\n",
       "<style scoped>\n",
       "    .dataframe tbody tr th:only-of-type {\n",
       "        vertical-align: middle;\n",
       "    }\n",
       "\n",
       "    .dataframe tbody tr th {\n",
       "        vertical-align: top;\n",
       "    }\n",
       "\n",
       "    .dataframe thead th {\n",
       "        text-align: right;\n",
       "    }\n",
       "</style>\n",
       "<table border=\"1\" class=\"dataframe\">\n",
       "  <thead>\n",
       "    <tr style=\"text-align: right;\">\n",
       "      <th></th>\n",
       "      <th>Date</th>\n",
       "      <th>Channel</th>\n",
       "      <th>Category</th>\n",
       "      <th>Product</th>\n",
       "    </tr>\n",
       "  </thead>\n",
       "  <tbody>\n",
       "    <tr>\n",
       "      <th>count</th>\n",
       "      <td>1000</td>\n",
       "      <td>1000</td>\n",
       "      <td>1000</td>\n",
       "      <td>1000</td>\n",
       "    </tr>\n",
       "    <tr>\n",
       "      <th>unique</th>\n",
       "      <td>1000</td>\n",
       "      <td>2</td>\n",
       "      <td>4</td>\n",
       "      <td>89</td>\n",
       "    </tr>\n",
       "    <tr>\n",
       "      <th>top</th>\n",
       "      <td>2020-01-02 11:32:21</td>\n",
       "      <td>Export</td>\n",
       "      <td>Horeca</td>\n",
       "      <td>Salmon</td>\n",
       "    </tr>\n",
       "    <tr>\n",
       "      <th>freq</th>\n",
       "      <td>1</td>\n",
       "      <td>504</td>\n",
       "      <td>294</td>\n",
       "      <td>271</td>\n",
       "    </tr>\n",
       "  </tbody>\n",
       "</table>\n",
       "</div>"
      ],
      "text/plain": [
       "                       Date Channel Category Product\n",
       "count                  1000    1000     1000    1000\n",
       "unique                 1000       2        4      89\n",
       "top     2020-01-02 11:32:21  Export   Horeca  Salmon\n",
       "freq                      1     504      294     271"
      ]
     },
     "execution_count": 24,
     "metadata": {},
     "output_type": "execute_result"
    }
   ],
   "source": [
    "df.describe(include=['object'])"
   ]
  },
  {
   "cell_type": "code",
   "execution_count": 25,
   "metadata": {},
   "outputs": [
    {
     "data": {
      "text/html": [
       "<div>\n",
       "<style scoped>\n",
       "    .dataframe tbody tr th:only-of-type {\n",
       "        vertical-align: middle;\n",
       "    }\n",
       "\n",
       "    .dataframe tbody tr th {\n",
       "        vertical-align: top;\n",
       "    }\n",
       "\n",
       "    .dataframe thead th {\n",
       "        text-align: right;\n",
       "    }\n",
       "</style>\n",
       "<table border=\"1\" class=\"dataframe\">\n",
       "  <thead>\n",
       "    <tr style=\"text-align: right;\">\n",
       "      <th></th>\n",
       "      <th>idOrder</th>\n",
       "      <th>Date</th>\n",
       "      <th>idWarehouse</th>\n",
       "      <th>Channel</th>\n",
       "      <th>Category</th>\n",
       "      <th>idBuyer</th>\n",
       "      <th>Product</th>\n",
       "      <th>Quantity</th>\n",
       "      <th>Revenue</th>\n",
       "      <th>RawMaterial</th>\n",
       "      <th>Handling</th>\n",
       "      <th>Logistic</th>\n",
       "      <th>idSales</th>\n",
       "    </tr>\n",
       "  </thead>\n",
       "  <tbody>\n",
       "    <tr>\n",
       "      <th>count</th>\n",
       "      <td>1000.000000</td>\n",
       "      <td>1000</td>\n",
       "      <td>1000.000000</td>\n",
       "      <td>1000</td>\n",
       "      <td>1000</td>\n",
       "      <td>1000.000000</td>\n",
       "      <td>1000</td>\n",
       "      <td>1000.000000</td>\n",
       "      <td>1.000000e+03</td>\n",
       "      <td>1.000000e+03</td>\n",
       "      <td>1000.00000</td>\n",
       "      <td>1.000000e+03</td>\n",
       "      <td>1000.000000</td>\n",
       "    </tr>\n",
       "    <tr>\n",
       "      <th>unique</th>\n",
       "      <td>NaN</td>\n",
       "      <td>1000</td>\n",
       "      <td>NaN</td>\n",
       "      <td>2</td>\n",
       "      <td>4</td>\n",
       "      <td>NaN</td>\n",
       "      <td>89</td>\n",
       "      <td>NaN</td>\n",
       "      <td>NaN</td>\n",
       "      <td>NaN</td>\n",
       "      <td>NaN</td>\n",
       "      <td>NaN</td>\n",
       "      <td>NaN</td>\n",
       "    </tr>\n",
       "    <tr>\n",
       "      <th>top</th>\n",
       "      <td>NaN</td>\n",
       "      <td>2020-01-02 11:32:21</td>\n",
       "      <td>NaN</td>\n",
       "      <td>Export</td>\n",
       "      <td>Horeca</td>\n",
       "      <td>NaN</td>\n",
       "      <td>Salmon</td>\n",
       "      <td>NaN</td>\n",
       "      <td>NaN</td>\n",
       "      <td>NaN</td>\n",
       "      <td>NaN</td>\n",
       "      <td>NaN</td>\n",
       "      <td>NaN</td>\n",
       "    </tr>\n",
       "    <tr>\n",
       "      <th>freq</th>\n",
       "      <td>NaN</td>\n",
       "      <td>1</td>\n",
       "      <td>NaN</td>\n",
       "      <td>504</td>\n",
       "      <td>294</td>\n",
       "      <td>NaN</td>\n",
       "      <td>271</td>\n",
       "      <td>NaN</td>\n",
       "      <td>NaN</td>\n",
       "      <td>NaN</td>\n",
       "      <td>NaN</td>\n",
       "      <td>NaN</td>\n",
       "      <td>NaN</td>\n",
       "    </tr>\n",
       "    <tr>\n",
       "      <th>mean</th>\n",
       "      <td>500.500000</td>\n",
       "      <td>NaN</td>\n",
       "      <td>10.088000</td>\n",
       "      <td>NaN</td>\n",
       "      <td>NaN</td>\n",
       "      <td>52.037000</td>\n",
       "      <td>NaN</td>\n",
       "      <td>45.892110</td>\n",
       "      <td>5.067867e+06</td>\n",
       "      <td>4.706057e+06</td>\n",
       "      <td>27154.51533</td>\n",
       "      <td>1.095649e+05</td>\n",
       "      <td>8.823000</td>\n",
       "    </tr>\n",
       "    <tr>\n",
       "      <th>std</th>\n",
       "      <td>288.819436</td>\n",
       "      <td>NaN</td>\n",
       "      <td>5.567338</td>\n",
       "      <td>NaN</td>\n",
       "      <td>NaN</td>\n",
       "      <td>29.362387</td>\n",
       "      <td>NaN</td>\n",
       "      <td>85.858183</td>\n",
       "      <td>9.447707e+06</td>\n",
       "      <td>9.136549e+06</td>\n",
       "      <td>80792.32792</td>\n",
       "      <td>2.228168e+05</td>\n",
       "      <td>3.783118</td>\n",
       "    </tr>\n",
       "    <tr>\n",
       "      <th>min</th>\n",
       "      <td>1.000000</td>\n",
       "      <td>NaN</td>\n",
       "      <td>1.000000</td>\n",
       "      <td>NaN</td>\n",
       "      <td>NaN</td>\n",
       "      <td>1.000000</td>\n",
       "      <td>NaN</td>\n",
       "      <td>0.500000</td>\n",
       "      <td>3.500000e+04</td>\n",
       "      <td>1.174111e+04</td>\n",
       "      <td>7.50000</td>\n",
       "      <td>3.990200e+02</td>\n",
       "      <td>1.000000</td>\n",
       "    </tr>\n",
       "    <tr>\n",
       "      <th>25%</th>\n",
       "      <td>250.750000</td>\n",
       "      <td>NaN</td>\n",
       "      <td>5.000000</td>\n",
       "      <td>NaN</td>\n",
       "      <td>NaN</td>\n",
       "      <td>27.000000</td>\n",
       "      <td>NaN</td>\n",
       "      <td>10.175000</td>\n",
       "      <td>1.077662e+06</td>\n",
       "      <td>9.782497e+05</td>\n",
       "      <td>732.28750</td>\n",
       "      <td>1.488246e+04</td>\n",
       "      <td>8.000000</td>\n",
       "    </tr>\n",
       "    <tr>\n",
       "      <th>50%</th>\n",
       "      <td>500.500000</td>\n",
       "      <td>NaN</td>\n",
       "      <td>10.000000</td>\n",
       "      <td>NaN</td>\n",
       "      <td>NaN</td>\n",
       "      <td>53.000000</td>\n",
       "      <td>NaN</td>\n",
       "      <td>20.000000</td>\n",
       "      <td>2.653998e+06</td>\n",
       "      <td>2.387452e+06</td>\n",
       "      <td>2887.83500</td>\n",
       "      <td>3.553563e+04</td>\n",
       "      <td>9.000000</td>\n",
       "    </tr>\n",
       "    <tr>\n",
       "      <th>75%</th>\n",
       "      <td>750.250000</td>\n",
       "      <td>NaN</td>\n",
       "      <td>15.000000</td>\n",
       "      <td>NaN</td>\n",
       "      <td>NaN</td>\n",
       "      <td>79.000000</td>\n",
       "      <td>NaN</td>\n",
       "      <td>40.000000</td>\n",
       "      <td>4.948258e+06</td>\n",
       "      <td>4.655364e+06</td>\n",
       "      <td>12603.94250</td>\n",
       "      <td>1.172533e+05</td>\n",
       "      <td>11.000000</td>\n",
       "    </tr>\n",
       "    <tr>\n",
       "      <th>max</th>\n",
       "      <td>1000.000000</td>\n",
       "      <td>NaN</td>\n",
       "      <td>19.000000</td>\n",
       "      <td>NaN</td>\n",
       "      <td>NaN</td>\n",
       "      <td>100.000000</td>\n",
       "      <td>NaN</td>\n",
       "      <td>997.270000</td>\n",
       "      <td>1.475960e+08</td>\n",
       "      <td>1.493151e+08</td>\n",
       "      <td>737169.66000</td>\n",
       "      <td>3.645973e+06</td>\n",
       "      <td>16.000000</td>\n",
       "    </tr>\n",
       "  </tbody>\n",
       "</table>\n",
       "</div>"
      ],
      "text/plain": [
       "            idOrder                 Date  idWarehouse Channel Category  \\\n",
       "count   1000.000000                 1000  1000.000000    1000     1000   \n",
       "unique          NaN                 1000          NaN       2        4   \n",
       "top             NaN  2020-01-02 11:32:21          NaN  Export   Horeca   \n",
       "freq            NaN                    1          NaN     504      294   \n",
       "mean     500.500000                  NaN    10.088000     NaN      NaN   \n",
       "std      288.819436                  NaN     5.567338     NaN      NaN   \n",
       "min        1.000000                  NaN     1.000000     NaN      NaN   \n",
       "25%      250.750000                  NaN     5.000000     NaN      NaN   \n",
       "50%      500.500000                  NaN    10.000000     NaN      NaN   \n",
       "75%      750.250000                  NaN    15.000000     NaN      NaN   \n",
       "max     1000.000000                  NaN    19.000000     NaN      NaN   \n",
       "\n",
       "            idBuyer Product     Quantity       Revenue   RawMaterial  \\\n",
       "count   1000.000000    1000  1000.000000  1.000000e+03  1.000000e+03   \n",
       "unique          NaN      89          NaN           NaN           NaN   \n",
       "top             NaN  Salmon          NaN           NaN           NaN   \n",
       "freq            NaN     271          NaN           NaN           NaN   \n",
       "mean      52.037000     NaN    45.892110  5.067867e+06  4.706057e+06   \n",
       "std       29.362387     NaN    85.858183  9.447707e+06  9.136549e+06   \n",
       "min        1.000000     NaN     0.500000  3.500000e+04  1.174111e+04   \n",
       "25%       27.000000     NaN    10.175000  1.077662e+06  9.782497e+05   \n",
       "50%       53.000000     NaN    20.000000  2.653998e+06  2.387452e+06   \n",
       "75%       79.000000     NaN    40.000000  4.948258e+06  4.655364e+06   \n",
       "max      100.000000     NaN   997.270000  1.475960e+08  1.493151e+08   \n",
       "\n",
       "            Handling      Logistic      idSales  \n",
       "count     1000.00000  1.000000e+03  1000.000000  \n",
       "unique           NaN           NaN          NaN  \n",
       "top              NaN           NaN          NaN  \n",
       "freq             NaN           NaN          NaN  \n",
       "mean     27154.51533  1.095649e+05     8.823000  \n",
       "std      80792.32792  2.228168e+05     3.783118  \n",
       "min          7.50000  3.990200e+02     1.000000  \n",
       "25%        732.28750  1.488246e+04     8.000000  \n",
       "50%       2887.83500  3.553563e+04     9.000000  \n",
       "75%      12603.94250  1.172533e+05    11.000000  \n",
       "max     737169.66000  3.645973e+06    16.000000  "
      ]
     },
     "execution_count": 25,
     "metadata": {},
     "output_type": "execute_result"
    }
   ],
   "source": [
    "df.describe(include='all')"
   ]
  },
  {
   "attachments": {},
   "cell_type": "markdown",
   "metadata": {},
   "source": [
    "### Computation of measures of central tendency\n",
    "In this section, I will compute the measures of central tendency - mean, median and mode.\n",
    "\n",
    "These statistics give us a approximate value of the middle of a numeric variable.\n",
    "\n",
    "I will use the Revenue variable for calculations."
   ]
  },
  {
   "cell_type": "code",
   "execution_count": 26,
   "metadata": {},
   "outputs": [
    {
     "name": "stdout",
     "output_type": "stream",
     "text": [
      "5067866.722\n"
     ]
    }
   ],
   "source": [
    "mean = df['Revenue'].mean()\n",
    "\n",
    "print(mean)"
   ]
  },
  {
   "cell_type": "code",
   "execution_count": 27,
   "metadata": {},
   "outputs": [
    {
     "name": "stdout",
     "output_type": "stream",
     "text": [
      "2653997.5\n"
     ]
    }
   ],
   "source": [
    "median = df['Revenue'].median()\n",
    "\n",
    "print(median)"
   ]
  },
  {
   "cell_type": "code",
   "execution_count": 28,
   "metadata": {},
   "outputs": [
    {
     "name": "stdout",
     "output_type": "stream",
     "text": [
      "0    670000\n",
      "1    970000\n",
      "Name: Revenue, dtype: int64\n"
     ]
    }
   ],
   "source": [
    "mode = df['Revenue'].mode()\n",
    "\n",
    "print(mode)"
   ]
  },
  {
   "attachments": {},
   "cell_type": "markdown",
   "metadata": {},
   "source": [
    "### Observation\n",
    "We can see that mean > median > mode. So, the distribution of Revenue is positively skewed. I will plot its distribution to confirm the same."
   ]
  },
  {
   "cell_type": "code",
   "execution_count": 49,
   "metadata": {},
   "outputs": [
    {
     "data": {
      "text/plain": [
       "<Axes: xlabel='Revenue', ylabel='Density'>"
      ]
     },
     "execution_count": 49,
     "metadata": {},
     "output_type": "execute_result"
    },
    {
     "data": {
      "image/png": "[encoded data removed]",
      "text/plain": [
       "<Figure size 640x480 with 1 Axes>"
      ]
     },
     "metadata": {},
     "output_type": "display_data"
    }
   ],
   "source": [
    "data = df['Revenue']\n",
    "\n",
    "sns.distplot(data, bins=10, hist=True, kde=True, label = 'Revenue')"
   ]
  },
  {
   "attachments": {},
   "cell_type": "markdown",
   "metadata": {},
   "source": [
    "### Computation of measures of dispersion or variability\n",
    "In this section, I will compute the measures of dispersion or variability - minimum and maximum values, range, variance, standard-deviation, IQR.\n",
    "\n",
    "Again, I will use the Revenue variable for calculations."
   ]
  },
  {
   "attachments": {},
   "cell_type": "markdown",
   "metadata": {},
   "source": [
    "#### Minimum value"
   ]
  },
  {
   "cell_type": "code",
   "execution_count": 30,
   "metadata": {},
   "outputs": [
    {
     "data": {
      "text/plain": [
       "35000"
      ]
     },
     "execution_count": 30,
     "metadata": {},
     "output_type": "execute_result"
    }
   ],
   "source": [
    "df['Revenue'].min()"
   ]
  },
  {
   "attachments": {},
   "cell_type": "markdown",
   "metadata": {},
   "source": [
    "#### Maximum value"
   ]
  },
  {
   "cell_type": "code",
   "execution_count": 31,
   "metadata": {},
   "outputs": [
    {
     "data": {
      "text/plain": [
       "147595960"
      ]
     },
     "execution_count": 31,
     "metadata": {},
     "output_type": "execute_result"
    }
   ],
   "source": [
    "df['Revenue'].max()"
   ]
  },
  {
   "attachments": {},
   "cell_type": "markdown",
   "metadata": {},
   "source": [
    "#### Range"
   ]
  },
  {
   "cell_type": "code",
   "execution_count": 32,
   "metadata": {},
   "outputs": [
    {
     "data": {
      "text/plain": [
       "147560960"
      ]
     },
     "execution_count": 32,
     "metadata": {},
     "output_type": "execute_result"
    }
   ],
   "source": [
    "df['Revenue'].max() - df['Revenue'].min()"
   ]
  },
  {
   "attachments": {},
   "cell_type": "markdown",
   "metadata": {},
   "source": [
    "#### Variance"
   ]
  },
  {
   "cell_type": "code",
   "execution_count": 33,
   "metadata": {},
   "outputs": [
    {
     "data": {
      "text/plain": [
       "89259160322508.06"
      ]
     },
     "execution_count": 33,
     "metadata": {},
     "output_type": "execute_result"
    }
   ],
   "source": [
    "df['Revenue'].var()"
   ]
  },
  {
   "attachments": {},
   "cell_type": "markdown",
   "metadata": {},
   "source": [
    "#### Standar Deviance"
   ]
  },
  {
   "cell_type": "code",
   "execution_count": 34,
   "metadata": {},
   "outputs": [
    {
     "data": {
      "text/plain": [
       "9447706.617084809"
      ]
     },
     "execution_count": 34,
     "metadata": {},
     "output_type": "execute_result"
    }
   ],
   "source": [
    "df['Revenue'].std()"
   ]
  },
  {
   "attachments": {},
   "cell_type": "markdown",
   "metadata": {},
   "source": [
    "#### Median (Q2 or 50th percentile)"
   ]
  },
  {
   "cell_type": "code",
   "execution_count": 35,
   "metadata": {},
   "outputs": [
    {
     "data": {
      "text/plain": [
       "2653997.5"
      ]
     },
     "execution_count": 35,
     "metadata": {},
     "output_type": "execute_result"
    }
   ],
   "source": [
    "Q2 = df['Revenue'].quantile(0.5)\n",
    "\n",
    "Q2"
   ]
  },
  {
   "attachments": {},
   "cell_type": "markdown",
   "metadata": {},
   "source": [
    "#### Q3 or 75th percentile"
   ]
  },
  {
   "cell_type": "code",
   "execution_count": 36,
   "metadata": {},
   "outputs": [
    {
     "data": {
      "text/plain": [
       "4948257.5"
      ]
     },
     "execution_count": 36,
     "metadata": {},
     "output_type": "execute_result"
    }
   ],
   "source": [
    "Q3 = df['Revenue'].quantile(0.75)\n",
    "\n",
    "Q3"
   ]
  },
  {
   "attachments": {},
   "cell_type": "markdown",
   "metadata": {},
   "source": [
    "#### Q1 or 25th percentile"
   ]
  },
  {
   "cell_type": "code",
   "execution_count": 37,
   "metadata": {},
   "outputs": [
    {
     "data": {
      "text/plain": [
       "1077662.5"
      ]
     },
     "execution_count": 37,
     "metadata": {},
     "output_type": "execute_result"
    }
   ],
   "source": [
    "Q1 = df['Revenue'].quantile(0.25)\n",
    "\n",
    "Q1"
   ]
  },
  {
   "attachments": {},
   "cell_type": "markdown",
   "metadata": {},
   "source": [
    "#### Interquartile Range"
   ]
  },
  {
   "cell_type": "code",
   "execution_count": 38,
   "metadata": {},
   "outputs": [
    {
     "data": {
      "text/plain": [
       "3870595.0"
      ]
     },
     "execution_count": 38,
     "metadata": {},
     "output_type": "execute_result"
    }
   ],
   "source": [
    "IQR = Q3  - Q1\n",
    "\n",
    "IQR"
   ]
  },
  {
   "attachments": {},
   "cell_type": "markdown",
   "metadata": {},
   "source": [
    "#### Draw boxplot"
   ]
  },
  {
   "cell_type": "code",
   "execution_count": 39,
   "metadata": {},
   "outputs": [
    {
     "data": {
      "image/png": "[encoded data removed]",
      "text/plain": [
       "<Figure size 640x480 with 1 Axes>"
      ]
     },
     "metadata": {},
     "output_type": "display_data"
    }
   ],
   "source": [
    "plt.boxplot(df['Revenue'])\n",
    "\n",
    "plt.show()"
   ]
  },
  {
   "attachments": {},
   "cell_type": "markdown",
   "metadata": {},
   "source": [
    "### Computation of measures of shape of distribution\n",
    "In this section, I will compute the measures of shape of distribution - skewness and kurtosis.\n",
    "\n",
    "Again, I will use the Revenue variable for calculations."
   ]
  },
  {
   "attachments": {},
   "cell_type": "markdown",
   "metadata": {},
   "source": [
    "#### Skewness"
   ]
  },
  {
   "cell_type": "code",
   "execution_count": 40,
   "metadata": {},
   "outputs": [
    {
     "data": {
      "text/plain": [
       "7.977961686761332"
      ]
     },
     "execution_count": 40,
     "metadata": {},
     "output_type": "execute_result"
    }
   ],
   "source": [
    "df['Revenue'].skew()"
   ]
  },
  {
   "attachments": {},
   "cell_type": "markdown",
   "metadata": {},
   "source": [
    "#### Interpretation\n",
    "I find the skewness to be 7.9779. So, it is greater than 1. Hence, we can conclude that the Revenue data is highly skewed."
   ]
  },
  {
   "cell_type": "code",
   "execution_count": 41,
   "metadata": {},
   "outputs": [
    {
     "data": {
      "text/plain": [
       "90.57373460030489"
      ]
     },
     "execution_count": 41,
     "metadata": {},
     "output_type": "execute_result"
    }
   ],
   "source": [
    "df['Revenue'].kurt()"
   ]
  },
  {
   "attachments": {},
   "cell_type": "markdown",
   "metadata": {},
   "source": [
    "#### Interpretation\n",
    "I find the kurtosis to be 90.5737. So, it is greater than 3 and so excess kurtosis > 0. Hence, we can conclude that the Revenue curve is a leptokurtic curve. As compared to a normal distribution, its central peak is higher and sharper, and its tails are longer and fatter."
   ]
  },
  {
   "cell_type": "code",
   "execution_count": 59,
   "metadata": {},
   "outputs": [
    {
     "data": {
      "image/png": "[encoded data removed]",
      "text/plain": [
       "<Figure size 1200x1000 with 1 Axes>"
      ]
     },
     "metadata": {},
     "output_type": "display_data"
    }
   ],
   "source": [
    "plt.figure(figsize=(12,10))\n",
    "ax = sns.boxplot(x='Channel', y='Revenue', data=df, orient=\"v\")"
   ]
  },
  {
   "cell_type": "code",
   "execution_count": 73,
   "metadata": {},
   "outputs": [
    {
     "data": {
      "image/png": "[encoded data removed]",
      "text/plain": [
       "<Figure size 1200x1000 with 1 Axes>"
      ]
     },
     "metadata": {},
     "output_type": "display_data"
    }
   ],
   "source": [
    "plt.figure(figsize=(12,10))\n",
    "ax = sns.boxplot(x='Category', y='Revenue', data=df, orient=\"v\")"
   ]
  },
  {
   "cell_type": "code",
   "execution_count": 60,
   "metadata": {},
   "outputs": [
    {
     "data": {
      "text/plain": [
       "<Axes: xlabel='Revenue'>"
      ]
     },
     "execution_count": 60,
     "metadata": {},
     "output_type": "execute_result"
    },
    {
     "data": {
      "image/png": "[encoded data removed]",
      "text/plain": [
       "<Figure size 1400x800 with 1 Axes>"
      ]
     },
     "metadata": {},
     "output_type": "display_data"
    }
   ],
   "source": [
    "filter_data = df.dropna(subset=['Revenue'])\n",
    "plt.figure(figsize=(14,8))\n",
    "sns.distplot(filter_data['Revenue'], kde=False)"
   ]
  },
  {
   "cell_type": "code",
   "execution_count": 72,
   "metadata": {},
   "outputs": [
    {
     "data": {
      "image/png": "[encoded data removed]",
      "text/plain": [
       "<Figure size 2000x1000 with 1 Axes>"
      ]
     },
     "metadata": {},
     "output_type": "display_data"
    }
   ],
   "source": [
    "sns.set(style='darkgrid')\n",
    "plt.figure(figsize=(20,10))\n",
    "ax = sns.countplot(x='Category', data=df)"
   ]
  },
  {
   "cell_type": "code",
   "execution_count": 69,
   "metadata": {},
   "outputs": [
    {
     "data": {
      "text/plain": [
       "array(['Walk-in-Customer', 'Horeca', 'Tokopedia', 'Shopee'], dtype=object)"
      ]
     },
     "execution_count": 69,
     "metadata": {},
     "output_type": "execute_result"
    }
   ],
   "source": [
    "df['Category'].unique()"
   ]
  },
  {
   "cell_type": "code",
   "execution_count": 71,
   "metadata": {},
   "outputs": [
    {
     "data": {
      "text/plain": [
       "<Axes: ylabel='category_buyer'>"
      ]
     },
     "execution_count": 71,
     "metadata": {},
     "output_type": "execute_result"
    },
    {
     "data": {
      "image/png": "[encoded data removed]",
      "text/plain": [
       "<Figure size 1000x1000 with 1 Axes>"
      ]
     },
     "metadata": {},
     "output_type": "display_data"
    }
   ],
   "source": [
    "type_counts = df['Category'].value_counts()\n",
    "df2 = pd.DataFrame(\n",
    "                    {'category_buyer': type_counts}, \n",
    "                   index = ['Walk-in-Customer', 'Horeca', 'Tokopedia', 'Shopee']\n",
    "                  )\n",
    "df2.plot.pie(y='category_buyer', figsize=(10,10), autopct='%1.1f%%')"
   ]
  },
  {
   "attachments": {},
   "cell_type": "markdown",
   "metadata": {},
   "source": [
    "### 2. Results and conclusion\n",
    "1. In this project, I describe the descriptive statistics that are used to summarize a dataset.\n",
    "2. In particular, I have described the measures of central tendency (mean, median and mode). I have also described the measures of dispersion or variability (variance, standard deviation, coefficient of variation, minimum and maximum values, IQR) and measures of shape (skewness and kurtosis).\n",
    "3. I have demonstrated how to calculate the summary statistics with describe() function.\n",
    "4. I have computed the measures of central tendency-mean, median and mode for the Revenue variable. I have found mean > median > mode. So, the distribution of Revenue is positively skewed. I have plotted its distribution to confirm the same.\n",
    "5. I have computed the measures of dispersion or variability-range, variance, standard-deviation, median and IQR for the Revenue variable.\n",
    "6. I have also computed the measures of shape-skewness and kurtosis for the Revenue (in millions)variable.\n",
    "7. I find the skewness to be 7.9779. So, it is greater than 1. Hence, we can conclude that the Revenue data is highly skewed.\n",
    "8. I find the kurtosis to be 90.5737. So, it is greater than 3 and so excess kurtosis > 0. Hence, we can conclude that the Revenue (in millions) curve is a leptokurtic curve. As compared to a normal distribution, its central peak is higher and sharper, and its tails are longer and fatter.\n",
    "9. I find Revenue on Export Channel greater than Domestic Channel, So next year we can push sales on Domestic, introduce Aruna to our Traditional Market Domestic. We can collaboration with Online Market daily needs Company\n"
   ]
  },
  {
   "attachments": {},
   "cell_type": "markdown",
   "metadata": {},
   "source": [
    "### 3. Bonus\n",
    "\n",
    "Based on these participation rates, I can observe the following:\n",
    "\n",
    "- The group notified via WA messages had the highest participation rate (79.17%), followed by the group notified via the fisherman app (67.86%).\n",
    "- The control group, which relied on offline posters for announcements, had the lowest participation rate (56.28%).\n",
    "\n",
    "Therefore, it appears that implementing reminder notifications, both via the fisherman app and through WA messages, resulted in higher participation rates compared to the existing method of offline poster announcements.\n",
    "\n",
    "#### Suggestions:\n",
    "\n",
    "1. Based on the experimental results, it seems beneficial to continue implementing reminder notifications via both the fisherman app and WA messages to increase fisherman participation in the engagement program.\n",
    "2. Consider further analyzing the cost and feasibility of each notification method to determine the most effective and efficient approach for future engagements.\n",
    "3. Explore other potential communication channels or strategies to improve participation rates even further such as Whatsapp Group fisherman, create agents from fisherman's wife, give them bonus"
   ]
  },
  {
   "attachments": {},
   "cell_type": "markdown",
   "metadata": {},
   "source": []
  }
 ],
 "metadata": {
  "kernelspec": {
   "display_name": "Python 3",
   "language": "python",
   "name": "python3"
  },
  "language_info": {
   "codemirror_mode": {
    "name": "ipython",
    "version": 3
   },
   "file_extension": ".py",
   "mimetype": "text/x-python",
   "name": "python",
   "nbconvert_exporter": "python",
   "pygments_lexer": "ipython3",
   "version": "3.9.15"
  },
  "orig_nbformat": 4
 },
 "nbformat": 4,
 "nbformat_minor": 2
}
